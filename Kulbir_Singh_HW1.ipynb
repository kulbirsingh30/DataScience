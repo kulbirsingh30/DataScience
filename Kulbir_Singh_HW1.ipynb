{
 "cells": [
  {
   "cell_type": "markdown",
   "id": "08ce4424",
   "metadata": {},
   "source": [
    "# Assignment 1"
   ]
  },
  {
   "cell_type": "code",
   "execution_count": 2,
   "id": "7eaf5af1",
   "metadata": {},
   "outputs": [],
   "source": [
    "import numpy as np\n",
    "import timeit \n",
    "from numpy.lib.stride_tricks import as_strided"
   ]
  },
  {
   "cell_type": "markdown",
   "id": "ff04afc4",
   "metadata": {},
   "source": [
    "## Create Numpy Arrays"
   ]
  },
  {
   "cell_type": "markdown",
   "id": "26335797",
   "metadata": {},
   "source": [
    "### 1). Convert a Python list x=[[1,2,3],[4,5,6]] into a Numpy array. "
   ]
  },
  {
   "cell_type": "code",
   "execution_count": 2,
   "id": "3ddff78c",
   "metadata": {},
   "outputs": [
    {
     "name": "stdout",
     "output_type": "stream",
     "text": [
      "Desired Numpy array :\n",
      " [[1 2 3]\n",
      " [4 5 6]]\n"
     ]
    }
   ],
   "source": [
    "x=[[1,2,3],[4,5,6]]\n",
    "array=np.array(x)\n",
    "print (\"Desired Numpy array :\\n\", array)"
   ]
  },
  {
   "cell_type": "code",
   "execution_count": 3,
   "id": "c2bae2dd",
   "metadata": {},
   "outputs": [
    {
     "name": "stdout",
     "output_type": "stream",
     "text": [
      "[[1 2 3]\n",
      " [4 5 6]]\n"
     ]
    }
   ],
   "source": [
    "x = [[1,2,3],[4,5,6]]\n",
    "array = np.array(x)\n",
    "print(array)"
   ]
  },
  {
   "cell_type": "markdown",
   "id": "e50ab743",
   "metadata": {},
   "source": [
    "### 2). Use one line to create a 3x2 2D array with shape of (3,2), filled with 1-6."
   ]
  },
  {
   "cell_type": "code",
   "execution_count": 3,
   "id": "622f0a79",
   "metadata": {},
   "outputs": [
    {
     "data": {
      "text/plain": [
       "array([[1, 2],\n",
       "       [3, 4],\n",
       "       [5, 6]])"
      ]
     },
     "execution_count": 3,
     "metadata": {},
     "output_type": "execute_result"
    }
   ],
   "source": [
    "x=np.arange(1,7).reshape(3,2)\n",
    "x"
   ]
  },
  {
   "cell_type": "code",
   "execution_count": 24,
   "id": "d1f304b7",
   "metadata": {},
   "outputs": [
    {
     "data": {
      "text/plain": [
       "array([[2, 3, 4],\n",
       "       [4, 5, 6],\n",
       "       [6, 7, 8]])"
      ]
     },
     "execution_count": 24,
     "metadata": {},
     "output_type": "execute_result"
    }
   ],
   "source": [
    "np.array([range(i, i +3) for i in [2, 4, 6]])"
   ]
  },
  {
   "cell_type": "markdown",
   "id": "a98a3378",
   "metadata": {},
   "source": [
    "### 3). Create an array of 2, 4, 6, 8, ..., 98, 100; and find the mean value."
   ]
  },
  {
   "cell_type": "code",
   "execution_count": 4,
   "id": "5de03d37",
   "metadata": {},
   "outputs": [
    {
     "name": "stdout",
     "output_type": "stream",
     "text": [
      "Array : \n",
      " [  2   4   6   8  10  12  14  16  18  20  22  24  26  28  30  32  34  36\n",
      "  38  40  42  44  46  48  50  52  54  56  58  60  62  64  66  68  70  72\n",
      "  74  76  78  80  82  84  86  88  90  92  94  96  98 100]\n",
      "\n",
      "Mean : \n",
      " 51.0\n"
     ]
    }
   ],
   "source": [
    "x=np.arange(2,101,2)\n",
    "y=x.mean()\n",
    "print(\"Array : \\n\",x)\n",
    "print()\n",
    "print(\"Mean : \\n\",y)"
   ]
  },
  {
   "cell_type": "code",
   "execution_count": 27,
   "id": "19ea25b4",
   "metadata": {},
   "outputs": [
    {
     "data": {
      "text/plain": [
       "array([ 1,  4,  7, 10, 13, 16, 19, 22, 25, 28, 31, 34, 37, 40, 43, 46, 49,\n",
       "       52, 55, 58, 61, 64, 67, 70, 73, 76, 79, 82, 85, 88, 91, 94, 97])"
      ]
     },
     "execution_count": 27,
     "metadata": {},
     "output_type": "execute_result"
    }
   ],
   "source": [
    "#creating the array with linear sequenece \n",
    "# arrange(start,end,step)\n",
    "x=np.arange(1,100,3)\n",
    "x"
   ]
  },
  {
   "cell_type": "code",
   "execution_count": 30,
   "id": "6e1cb415",
   "metadata": {},
   "outputs": [
    {
     "data": {
      "text/plain": [
       "array([[0, 0, 0, 0],\n",
       "       [0, 0, 0, 0],\n",
       "       [0, 0, 0, 0]])"
      ]
     },
     "execution_count": 30,
     "metadata": {},
     "output_type": "execute_result"
    }
   ],
   "source": [
    "np.zeros((3,4),dtype=int)"
   ]
  },
  {
   "cell_type": "code",
   "execution_count": 32,
   "id": "9daf22d4",
   "metadata": {},
   "outputs": [
    {
     "data": {
      "text/plain": [
       "array([1., 1., 1., 1., 1., 1., 1., 1., 1., 1.])"
      ]
     },
     "execution_count": 32,
     "metadata": {},
     "output_type": "execute_result"
    }
   ],
   "source": [
    "np.ones(10, dtype=float)"
   ]
  },
  {
   "cell_type": "code",
   "execution_count": 33,
   "id": "f954c92f",
   "metadata": {},
   "outputs": [
    {
     "data": {
      "text/plain": [
       "array([[3.14, 3.14, 3.14, 3.14],\n",
       "       [3.14, 3.14, 3.14, 3.14],\n",
       "       [3.14, 3.14, 3.14, 3.14]])"
      ]
     },
     "execution_count": 33,
     "metadata": {},
     "output_type": "execute_result"
    }
   ],
   "source": [
    "np.full((3,4), 3.14)"
   ]
  },
  {
   "cell_type": "code",
   "execution_count": null,
   "id": "5b7461ec",
   "metadata": {},
   "outputs": [],
   "source": [
    "np."
   ]
  },
  {
   "cell_type": "markdown",
   "id": "6808b60e",
   "metadata": {},
   "source": [
    "### 4). Create an 3x3x3 array filled with arbitrary values; and find the minimum and maximum values."
   ]
  },
  {
   "cell_type": "code",
   "execution_count": 5,
   "id": "b87cdfae",
   "metadata": {},
   "outputs": [
    {
     "name": "stdout",
     "output_type": "stream",
     "text": [
      "Array : \n",
      " [[[0.43025441 0.57111655 0.70187093]\n",
      "  [0.55867705 0.1117936  0.59858122]\n",
      "  [0.95775516 0.31146941 0.44761715]]\n",
      "\n",
      " [[0.78915531 0.02386237 0.41893582]\n",
      "  [0.34600979 0.77587629 0.85034771]\n",
      "  [0.68559503 0.65899465 0.47438817]]\n",
      "\n",
      " [[0.4682919  0.31071026 0.06654176]\n",
      "  [0.97227261 0.70761079 0.15142714]\n",
      "  [0.19388189 0.95314977 0.96814691]]]\n",
      "Minimum value : \n",
      " 0.023862371123979487\n",
      "Maximum value : \n",
      " 0.9722726086310376\n"
     ]
    }
   ],
   "source": [
    "x=np.random.rand(3,3,3)\n",
    "y=x.min()\n",
    "z=x.max()\n",
    "print(\"Array : \\n\",x)\n",
    "print(\"Minimum value : \\n\",y)\n",
    "print(\"Maximum value : \\n\",z)"
   ]
  },
  {
   "cell_type": "markdown",
   "id": "7d024fae",
   "metadata": {},
   "source": [
    "### 5). Create a random array of size 10 and sort it."
   ]
  },
  {
   "cell_type": "code",
   "execution_count": 6,
   "id": "a74f4ffc",
   "metadata": {},
   "outputs": [
    {
     "name": "stdout",
     "output_type": "stream",
     "text": [
      "Sorted Array :  [0 0 3 4 5 5 6 8 8 9]\n"
     ]
    }
   ],
   "source": [
    "x=np.random.randint(10,size=10)\n",
    "y=np.sort(x)\n",
    "print(\"Sorted Array : \",y)"
   ]
  },
  {
   "cell_type": "markdown",
   "id": "df9c3f31",
   "metadata": {},
   "source": [
    "### 6). Create a numpy array of length 10, starting from 5 and has a step of 3 between consecutive numbers"
   ]
  },
  {
   "cell_type": "code",
   "execution_count": 7,
   "id": "9a1c6153",
   "metadata": {},
   "outputs": [
    {
     "data": {
      "text/plain": [
       "array([ 5,  8, 11, 14, 17, 20, 23, 26, 29, 32])"
      ]
     },
     "execution_count": 7,
     "metadata": {},
     "output_type": "execute_result"
    }
   ],
   "source": [
    "a=10\n",
    "b=np.linspace(5,5+(a*3),10,dtype=int,endpoint=False)\n",
    "b\n"
   ]
  },
  {
   "cell_type": "markdown",
   "id": "7058f9bd",
   "metadata": {},
   "source": [
    "### 7). Create an arbitrary array of shape (10,10); and find the memory size of this array."
   ]
  },
  {
   "cell_type": "code",
   "execution_count": 8,
   "id": "4549b416",
   "metadata": {},
   "outputs": [
    {
     "name": "stdout",
     "output_type": "stream",
     "text": [
      "Arbiratry array :\n",
      " [[0.17200619 0.67311347 0.58712728 0.98652445 0.30777488 0.64151206\n",
      "  0.41686062 0.11887099 0.90460329 0.82879313]\n",
      " [0.37515782 0.9141385  0.01521914 0.72794316 0.49328908 0.81500008\n",
      "  0.63283454 0.96718511 0.62452785 0.73971586]\n",
      " [0.78064921 0.57038815 0.26788488 0.02246441 0.49364902 0.26399356\n",
      "  0.80260696 0.54549694 0.2931666  0.33994112]\n",
      " [0.43236237 0.9214464  0.06700777 0.61688235 0.832049   0.27673179\n",
      "  0.69942332 0.17282844 0.38512729 0.43635609]\n",
      " [0.78034991 0.44413667 0.06288114 0.23464479 0.89183849 0.97162596\n",
      "  0.95871921 0.31669571 0.49476253 0.36056446]\n",
      " [0.94068872 0.61430031 0.55005848 0.1576021  0.06709428 0.72100306\n",
      "  0.78747374 0.3618591  0.82293303 0.18025375]\n",
      " [0.66838053 0.88048577 0.01562388 0.88775943 0.13569019 0.29360029\n",
      "  0.71481978 0.48209892 0.83441384 0.93121368]\n",
      " [0.72536954 0.5831644  0.27910348 0.28821124 0.94572851 0.89351553\n",
      "  0.14956781 0.23421916 0.94747604 0.98487504]\n",
      " [0.35770766 0.04919563 0.61669576 0.61567017 0.90770709 0.70398472\n",
      "  0.85894848 0.59728958 0.96131874 0.80664874]\n",
      " [0.95875834 0.65326065 0.99065959 0.78585979 0.1000972  0.49229026\n",
      "  0.19264876 0.70621325 0.80868396 0.27588878]]\n",
      "\n",
      "Memory size in bytes:\n",
      " 800\n"
     ]
    }
   ],
   "source": [
    "a=np.random.rand(10,10)\n",
    "b=a.nbytes                               \n",
    "print(\"Arbiratry array :\\n\",a)\n",
    "print(\"\\nMemory size in bytes:\\n\",b) "
   ]
  },
  {
   "cell_type": "markdown",
   "id": "1126c990",
   "metadata": {},
   "source": [
    "### 8). Create a null array of size 10 but the fifth value which is 1."
   ]
  },
  {
   "cell_type": "code",
   "execution_count": 9,
   "id": "15af465d",
   "metadata": {},
   "outputs": [
    {
     "data": {
      "text/plain": [
       "array([0, 0, 0, 0, 1, 0, 0, 0, 0, 0])"
      ]
     },
     "execution_count": 9,
     "metadata": {},
     "output_type": "execute_result"
    }
   ],
   "source": [
    "np.array([int(a==4) for a in range(10)])  "
   ]
  },
  {
   "cell_type": "markdown",
   "id": "8de4c8b5",
   "metadata": {},
   "source": [
    "### 9). Create an array with values ranging from 10 to 49; and reverse it then (first element becomes last). "
   ]
  },
  {
   "cell_type": "code",
   "execution_count": 10,
   "id": "74cbdd3b",
   "metadata": {},
   "outputs": [
    {
     "name": "stdout",
     "output_type": "stream",
     "text": [
      "Array : \n",
      " [10 11 12 13 14 15 16 17 18 19 20 21 22 23 24 25 26 27 28 29 30 31 32 33\n",
      " 34 35 36 37 38 39 40 41 42 43 44 45 46 47 48 49]\n",
      "Reversed Array : \n",
      " [49 48 47 46 45 44 43 42 41 40 39 38 37 36 35 34 33 32 31 30 29 28 27 26\n",
      " 25 24 23 22 21 20 19 18 17 16 15 14 13 12 11 10]\n"
     ]
    }
   ],
   "source": [
    "x=np.arange(10,50)\n",
    "y=np.flip(x,0)\n",
    "print(\"Array : \\n\",x)\n",
    "print(\"Reversed Array : \\n\",y)"
   ]
  },
  {
   "cell_type": "markdown",
   "id": "766b8caf",
   "metadata": {},
   "source": [
    "### 10). Create an array of shape (3, 2) with random values from a uniform distribution over [0, 1) and confirm you can get the same value when you run it next time."
   ]
  },
  {
   "cell_type": "code",
   "execution_count": 11,
   "id": "29ab39ca",
   "metadata": {},
   "outputs": [
    {
     "name": "stdout",
     "output_type": "stream",
     "text": [
      "Array : \n",
      " [[0.5488135  0.71518937]\n",
      " [0.60276338 0.54488318]\n",
      " [0.4236548  0.64589411]]\n"
     ]
    }
   ],
   "source": [
    "np.random.seed(0)\n",
    "x=np.random.uniform(0,1,size=(3,2))\n",
    "print(\"Array : \\n\",x)"
   ]
  },
  {
   "cell_type": "markdown",
   "id": "434605e4",
   "metadata": {},
   "source": [
    "### 11). Create a 5x5 matrix with row values ranging from 0 to 4:                                2 points\n",
    "\n",
    "[[0. 1. 2. 3. 4.]\n",
    "\n",
    " [0. 1. 2. 3. 4.]\n",
    "\n",
    " [0. 1. 2. 3. 4.]\n",
    "\n",
    " [0. 1. 2. 3. 4.]\n",
    "\n",
    " [0. 1. 2. 3. 4.]]"
   ]
  },
  {
   "cell_type": "code",
   "execution_count": 12,
   "id": "dda09635",
   "metadata": {},
   "outputs": [
    {
     "data": {
      "text/plain": [
       "array([[0., 1., 2., 3., 4.],\n",
       "       [0., 1., 2., 3., 4.],\n",
       "       [0., 1., 2., 3., 4.],\n",
       "       [0., 1., 2., 3., 4.],\n",
       "       [0., 1., 2., 3., 4.]])"
      ]
     },
     "execution_count": 12,
     "metadata": {},
     "output_type": "execute_result"
    }
   ],
   "source": [
    "x = np.zeros((5,5))\n",
    "x+=np.arange(5)                   \n",
    "x\n"
   ]
  },
  {
   "cell_type": "markdown",
   "id": "aab9dc54",
   "metadata": {},
   "source": [
    "### 12). Add a border (filled with 0's) around an existing array:                                     4 points\n",
    "\n",
    "[[1. 1. 1. 1. 1.]\n",
    "\n",
    " [1. 1. 1. 1. 1.]\n",
    "\n",
    " [1. 1. 1. 1. 1.]\n",
    "\n",
    " [1. 1. 1. 1. 1.]\n",
    "\n",
    " [1. 1. 1. 1. 1.]]\n",
    "\n",
    "---->>\n",
    "\n",
    "[[0. 0. 0. 0. 0. 0. 0.]\n",
    "\n",
    " [0. 1. 1. 1. 1. 1. 0.]\n",
    "\n",
    " [0. 1. 1. 1. 1. 1. 0.]\n",
    "\n",
    " [0. 1. 1. 1. 1. 1. 0.]\n",
    "\n",
    " [0. 1. 1. 1. 1. 1. 0.]\n",
    "\n",
    " [0. 1. 1. 1. 1. 1. 0.]\n",
    "\n",
    " [0. 0. 0. 0. 0. 0. 0.]]"
   ]
  },
  {
   "cell_type": "code",
   "execution_count": 13,
   "id": "dd0da82e",
   "metadata": {},
   "outputs": [
    {
     "name": "stdout",
     "output_type": "stream",
     "text": [
      "Original array :\n",
      " [[1. 1. 1. 1. 1.]\n",
      " [1. 1. 1. 1. 1.]\n",
      " [1. 1. 1. 1. 1.]\n",
      " [1. 1. 1. 1. 1.]\n",
      " [1. 1. 1. 1. 1.]]\n",
      "Array with 0's border: \n",
      " [[0. 0. 0. 0. 0. 0. 0.]\n",
      " [0. 1. 1. 1. 1. 1. 0.]\n",
      " [0. 1. 1. 1. 1. 1. 0.]\n",
      " [0. 1. 1. 1. 1. 1. 0.]\n",
      " [0. 1. 1. 1. 1. 1. 0.]\n",
      " [0. 1. 1. 1. 1. 1. 0.]\n",
      " [0. 0. 0. 0. 0. 0. 0.]]\n"
     ]
    }
   ],
   "source": [
    "x=np.ones((5,5))\n",
    "print(\"Original array :\\n\",x)\n",
    "y=np.pad(x,(1,1),'constant',constant_values=0)\n",
    "print(\"Array with 0's border: \\n\",y)\n",
    "\n"
   ]
  },
  {
   "cell_type": "markdown",
   "id": "77de25b3",
   "metadata": {},
   "source": [
    "### 13). Create a 5x5 2D array with values 1,2,3,4,5 on the diagonal                 4 points\n",
    "\n",
    "[1 0 0 0 0]\n",
    "\n",
    " [0 2 0 0 0]\n",
    "\n",
    " [0 0 3 0 0]\n",
    "\n",
    " [0 0 0 4 0]\n",
    "\n",
    " [0 0 0 0 5]]\n",
    "\n",
    "Then, make 1,2,3,4 move below the diagonal:\n",
    "\n",
    "[[0 0 0 0 0]\n",
    "\n",
    " [1 0 0 0 0]\n",
    "\n",
    " [0 2 0 0 0]\n",
    "\n",
    " [0 0 3 0 0]\n",
    "\n",
    " [0 0 0 4 0]]"
   ]
  },
  {
   "cell_type": "code",
   "execution_count": 14,
   "id": "474b20c8",
   "metadata": {},
   "outputs": [
    {
     "name": "stdout",
     "output_type": "stream",
     "text": [
      "[[1. 0. 0. 0. 0.]\n",
      " [0. 2. 0. 0. 0.]\n",
      " [0. 0. 3. 0. 0.]\n",
      " [0. 0. 0. 4. 0.]\n",
      " [0. 0. 0. 0. 5.]]\n",
      "[[0. 0. 0. 0. 0.]\n",
      " [1. 0. 0. 0. 0.]\n",
      " [0. 2. 0. 0. 0.]\n",
      " [0. 0. 3. 0. 0.]\n",
      " [0. 0. 0. 4. 0.]]\n"
     ]
    }
   ],
   "source": [
    "x=np.zeros((5,5))\n",
    "x[[0,1,2,3,4],[0,1,2,3,4]]=1,2,3,4,5\n",
    "print(x)\n",
    "x= np.pad(x, pad_width=1, mode='constant', constant_values=0)\n",
    "print(x[0:-2,1:-1])"
   ]
  },
  {
   "cell_type": "markdown",
   "id": "f5953f38",
   "metadata": {},
   "source": [
    "### 14). Create a 2d 10x10 array with 1 on the border and 0 inside.                  4 points\n",
    "\n",
    "[[1. 1. 1. 1. 1. 1. 1. 1. 1. 1.]\n",
    "\n",
    " [1. 0. 0. 0. 0. 0. 0. 0. 0. 1.]\n",
    "\n",
    " [1. 0. 0. 0. 0. 0. 0. 0. 0. 1.]\n",
    "\n",
    " [1. 0. 0. 0. 0. 0. 0. 0. 0. 1.]\n",
    "\n",
    " [1. 0. 0. 0. 0. 0. 0. 0. 0. 1.]\n",
    "\n",
    " [1. 0. 0. 0. 0. 0. 0. 0. 0. 1.]\n",
    "\n",
    " [1. 0. 0. 0. 0. 0. 0. 0. 0. 1.]\n",
    "\n",
    " [1. 0. 0. 0. 0. 0. 0. 0. 0. 1.]\n",
    "\n",
    " [1. 0. 0. 0. 0. 0. 0. 0. 0. 1.]\n",
    "\n",
    " [1. 1. 1. 1. 1. 1. 1. 1. 1. 1.]]"
   ]
  },
  {
   "cell_type": "code",
   "execution_count": 15,
   "id": "0b346e9e",
   "metadata": {},
   "outputs": [
    {
     "name": "stdout",
     "output_type": "stream",
     "text": [
      "Array with 1's border : \n",
      " [[1. 1. 1. 1. 1. 1. 1. 1. 1. 1.]\n",
      " [1. 0. 0. 0. 0. 0. 0. 0. 0. 1.]\n",
      " [1. 0. 0. 0. 0. 0. 0. 0. 0. 1.]\n",
      " [1. 0. 0. 0. 0. 0. 0. 0. 0. 1.]\n",
      " [1. 0. 0. 0. 0. 0. 0. 0. 0. 1.]\n",
      " [1. 0. 0. 0. 0. 0. 0. 0. 0. 1.]\n",
      " [1. 0. 0. 0. 0. 0. 0. 0. 0. 1.]\n",
      " [1. 0. 0. 0. 0. 0. 0. 0. 0. 1.]\n",
      " [1. 0. 0. 0. 0. 0. 0. 0. 0. 1.]\n",
      " [1. 1. 1. 1. 1. 1. 1. 1. 1. 1.]]\n"
     ]
    }
   ],
   "source": [
    "x=np.zeros((8,8))\n",
    "y=np.pad(x,(1,1),'constant',constant_values=1)\n",
    "print(\"Array with 1's border : \\n\",y)\n"
   ]
  },
  {
   "cell_type": "markdown",
   "id": "c4619f28",
   "metadata": {},
   "source": [
    "### 15). Extract the integer part of a random array of positive numbers using 2 different methods, and the result should be an integer array.                2 points"
   ]
  },
  {
   "cell_type": "code",
   "execution_count": 16,
   "id": "2192022b",
   "metadata": {},
   "outputs": [
    {
     "name": "stdout",
     "output_type": "stream",
     "text": [
      "[4.37587211 8.91773001 9.63662761 3.83441519 7.91725038 5.2889492\n",
      " 5.68044561 9.25596638 0.71036058 0.871293  ]\n",
      "1st Method : [4 8 9 3 7 5 5 9 0 0]\n",
      "2nd Method :  [4 8 9 3 7 5 5 9 0 0]\n"
     ]
    }
   ],
   "source": [
    "arr = np.random.uniform(0,10,size=(10))\n",
    "print(arr)\n",
    "print(\"1st Method :\",np.asarray(arr,dtype=int))\n",
    "print(\"2nd Method : \",arr.astype(int))"
   ]
  },
  {
   "cell_type": "markdown",
   "id": "3df49f60",
   "metadata": {},
   "source": [
    "# Operations on Numpy Arrays: "
   ]
  },
  {
   "cell_type": "markdown",
   "id": "d35fb604",
   "metadata": {},
   "source": [
    "### 1). Find the index of 5th repetition of number 1 in the given array x.          2 points\n",
    "\n",
    "x: [1, 2, 1, 1, 3, 4, 3, 1, 1, 2, 1, 1, 2]"
   ]
  },
  {
   "cell_type": "code",
   "execution_count": 17,
   "id": "3e7da7ba",
   "metadata": {},
   "outputs": [
    {
     "data": {
      "text/plain": [
       "8"
      ]
     },
     "execution_count": 17,
     "metadata": {},
     "output_type": "execute_result"
    }
   ],
   "source": [
    "x=np.array([1, 2, 1, 1, 3, 4, 3, 1, 1, 2, 1, 1, 2])\n",
    "output=np.where(x==1)\n",
    "output[0][4]"
   ]
  },
  {
   "cell_type": "markdown",
   "id": "85928a1d",
   "metadata": {},
   "source": [
    "### 2). Use arange to get an array [1, 2, 3, ..., 9]. Split x into 3 arrays, each of which has 4, 2, and 3 elements in the original order."
   ]
  },
  {
   "cell_type": "code",
   "execution_count": 18,
   "id": "e0c3ad6b",
   "metadata": {},
   "outputs": [
    {
     "name": "stdout",
     "output_type": "stream",
     "text": [
      "1st array: \n",
      " [1 2 3 4] \n",
      " 2nd array:\n",
      " [5 6] \n",
      "3rd array: \n",
      " [7 8 9]\n"
     ]
    }
   ],
   "source": [
    "x=np.arange(1,10)\n",
    "x\n",
    "y1,y2,y3=np.split(x,[4,6])\n",
    "print(\"1st array: \\n\",y1,\"\\n 2nd array:\\n\",y2,\"\\n3rd array: \\n\",y3)\n"
   ]
  },
  {
   "cell_type": "markdown",
   "id": "0e0fb739",
   "metadata": {},
   "source": [
    "### 3). Use arange to generate the following 2D array:               2 points\n",
    "\n",
    "[[ 0., 1., 2., 3.],\n",
    "\n",
    " [ 4., 5., 6., 7.],\n",
    "\n",
    " [ 8., 9., 10., 11.],\n",
    "\n",
    " [ 12., 13., 14., 15.]]\n",
    "\n",
    "Use np.split to split the array into left and right halves.\n",
    "\n",
    "[[ 0,  1],\n",
    "\n",
    " [ 4,  5],\n",
    "\n",
    " [ 8,  9],\n",
    "\n",
    " [12, 13]]\n",
    "\n",
    "and\n",
    "\n",
    "[[ 2,  3],\n",
    "\n",
    " [ 6,  7],\n",
    "\n",
    " [10, 11],\n",
    "\n",
    " [14, 15]]"
   ]
  },
  {
   "cell_type": "code",
   "execution_count": 19,
   "id": "d793f258",
   "metadata": {},
   "outputs": [
    {
     "name": "stdout",
     "output_type": "stream",
     "text": [
      "2D Array : [[ 0  1  2  3]\n",
      " [ 4  5  6  7]\n",
      " [ 8  9 10 11]\n",
      " [12 13 14 15]]\n",
      "Splitted Arrays : \n",
      "Split1 : \n",
      " [[ 0  1]\n",
      " [ 4  5]\n",
      " [ 8  9]\n",
      " [12 13]] \n",
      " Split2 :\n",
      " [[ 2  3]\n",
      " [ 6  7]\n",
      " [10 11]\n",
      " [14 15]]\n"
     ]
    }
   ],
   "source": [
    "x=np.arange(16).reshape(4,4)\n",
    "print(\"2D Array :\",x)\n",
    "split1,split2=np.hsplit(x,2)\n",
    "print(\"Splitted Arrays : \")\n",
    "print(\"Split1 : \\n\",split1,\"\\n Split2 :\\n\",split2)"
   ]
  },
  {
   "cell_type": "markdown",
   "id": "4af8943b",
   "metadata": {},
   "source": [
    "### 4). Given an 2D array:                                                 2 points\n",
    "\n",
    "[[5,10,15],\n",
    "\n",
    " [20,25,30],\n",
    "\n",
    " [35,40,45]]\n",
    "\n",
    "(1) Slicing to get the sub-array [[10,15], [25,30]]\n",
    "\n",
    "(2) Getting individual element value \"20\""
   ]
  },
  {
   "cell_type": "code",
   "execution_count": 20,
   "id": "3dce88ff",
   "metadata": {},
   "outputs": [
    {
     "name": "stdout",
     "output_type": "stream",
     "text": [
      "Individual element : 20\n",
      "Sliced :\n",
      " [[10 15]\n",
      " [25 30]]\n"
     ]
    }
   ],
   "source": [
    "x=np.array([[5,10,15],\n",
    "\n",
    " [20,25,30],\n",
    "\n",
    " [35,40,45]])\n",
    "subarray=x[:2,1:]\n",
    "element=x[1,0]\n",
    "print(\"Individual element :\" ,element)\n",
    "print(\"Sliced :\\n\",subarray)\n"
   ]
  },
  {
   "cell_type": "markdown",
   "id": "94dee5d3",
   "metadata": {},
   "source": [
    "### 5). Let x be an array:                                                  \n",
    "\n",
    "[[ 1 2 3],\n",
    "\n",
    " [ 4 5 6]].\n",
    "\n",
    "and y be an array\n",
    "\n",
    "[[ 7 8 9],\n",
    "\n",
    " [10 11 12]].\n",
    "\n",
    "Concatenate x and y so that a new array looks like\n",
    "\n",
    "[[1, 2, 3, 7, 8, 9],\n",
    "\n",
    " [4, 5, 6, 10, 11, 12]]."
   ]
  },
  {
   "cell_type": "code",
   "execution_count": 21,
   "id": "5984cb2a",
   "metadata": {},
   "outputs": [
    {
     "data": {
      "text/plain": [
       "array([[ 1,  2,  3,  7,  8,  9],\n",
       "       [ 4,  5,  6, 10, 11, 12]])"
      ]
     },
     "execution_count": 21,
     "metadata": {},
     "output_type": "execute_result"
    }
   ],
   "source": [
    "x=np.array([[ 1, 2, 3], [ 4, 5, 6]])\n",
    "y=np.array([[ 7 ,8 ,9], [10 ,11 ,12]])       \n",
    "z=np.concatenate([x,y],axis=1)\n",
    "z"
   ]
  },
  {
   "cell_type": "markdown",
   "id": "f386bb25",
   "metadata": {},
   "source": [
    "### 6). Compute the min/max (min is divided by max) for each row for a given 2d array, in which integer values range from 1 to 10 [1,10) and shape is (5,3).\n",
    "\n",
    "Here requires a random seed to keep the same value from the random generator."
   ]
  },
  {
   "cell_type": "code",
   "execution_count": 22,
   "id": "b1665d06",
   "metadata": {},
   "outputs": [
    {
     "name": "stdout",
     "output_type": "stream",
     "text": [
      "[[5 1 2]\n",
      " [1 2 9]\n",
      " [1 9 7]\n",
      " [5 4 1]\n",
      " [5 7 9]]\n",
      "[0.2        0.11111111 0.11111111 0.2        0.55555556]\n"
     ]
    }
   ],
   "source": [
    "np.random.seed(10) \n",
    "y = np.random.randint(1,10, size=(5, 3))\n",
    "print(y)\n",
    "ymax=np.amax(y,axis=1)           \n",
    "ymin=np.amin(y,axis=1)\n",
    "xy=ymin/ymax\n",
    "print(xy)"
   ]
  },
  {
   "cell_type": "markdown",
   "id": "f9cfbc6e",
   "metadata": {},
   "source": [
    "### 7). Normalize a 5x5 random matrix:                          2 points\n",
    "\n",
    "Tips: a normalization operates like: (the array - the mean)/the standard deviation"
   ]
  },
  {
   "cell_type": "code",
   "execution_count": 23,
   "id": "541f7403",
   "metadata": {},
   "outputs": [
    {
     "name": "stdout",
     "output_type": "stream",
     "text": [
      "Original Array :\n",
      "[[0.81262096 0.61252607 0.72175532 0.29187607 0.91777412]\n",
      " [0.71457578 0.54254437 0.14217005 0.37334076 0.67413362]\n",
      " [0.44183317 0.43401399 0.61776698 0.51313824 0.65039718]\n",
      " [0.60103895 0.8052232  0.52164715 0.90864888 0.31923609]\n",
      " [0.09045935 0.30070006 0.11398436 0.82868133 0.04689632]]\n"
     ]
    },
    {
     "data": {
      "text/plain": [
       "array([[ 1.15446266,  0.36536391,  0.79612285, -0.89915868,  1.56914705],\n",
       "       [ 0.76780948,  0.0893825 , -1.48954273, -0.57789268,  0.60832083],\n",
       "       [-0.30778445, -0.33862035,  0.38603208, -0.02658417,  0.51471329],\n",
       "       [ 0.32006307,  1.12528867,  0.00697176,  1.53316054, -0.79126109],\n",
       "       [-1.69347021, -0.8643602 , -1.60069644,  1.21779868, -1.86526636]])"
      ]
     },
     "execution_count": 23,
     "metadata": {},
     "output_type": "execute_result"
    }
   ],
   "source": [
    "x= np.random.random((5,5))\n",
    "print(\"Original Array :\")\n",
    "print(x)\n",
    "y=np.mean(x)\n",
    "z=np.std(x)\n",
    "result=(x-y)/z                               \n",
    "result"
   ]
  },
  {
   "cell_type": "markdown",
   "id": "19adc796",
   "metadata": {},
   "source": [
    "### 8). Convert 3 arrays into a 1d array.                          2 points\n",
    "\n",
    "arr1: 0,1,2\n",
    "\n",
    "arr2: 3,4,5,6\n",
    "\n",
    "arr3: 7,8,9\n",
    "\n",
    "Generate the 3 arrays by numpy arange()\n",
    "\n",
    "Desired Output:\n",
    "\n",
    "([0, 1, 2, 3, 4, 5, 6, 7, 8, 9])"
   ]
  },
  {
   "cell_type": "code",
   "execution_count": 24,
   "id": "4f26010b",
   "metadata": {},
   "outputs": [
    {
     "name": "stdout",
     "output_type": "stream",
     "text": [
      "arr1 :  [0 1 2]\n",
      "arr2 : [3 4 5 6]\n",
      "arr3 : [7 8 9]\n",
      "Desired output : \n"
     ]
    },
    {
     "data": {
      "text/plain": [
       "array([0, 1, 2, 3, 4, 5, 6, 7, 8, 9])"
      ]
     },
     "execution_count": 24,
     "metadata": {},
     "output_type": "execute_result"
    }
   ],
   "source": [
    "arr1=np.arange(3)\n",
    "arr2=np.arange(3,7)\n",
    "arr3=np.arange(7,10)\n",
    "print(\"arr1 : \",arr1)\n",
    "print(\"arr2 :\",arr2)\n",
    "print(\"arr3 :\",arr3)\n",
    "output=np.concatenate((arr1,arr2,arr3))\n",
    "print(\"Desired output : \")\n",
    "output\n"
   ]
  },
  {
   "cell_type": "markdown",
   "id": "f7484e23",
   "metadata": {},
   "source": [
    "### 9). Get all items between 15 and 55 from aa, math expression: [15,55].                  2 points\n",
    "\n",
    "The aa is uniformly distributed integers in a 1D array (size=20) with given values (<100). Requires defining a seed."
   ]
  },
  {
   "cell_type": "code",
   "execution_count": 25,
   "id": "f6134e4c",
   "metadata": {},
   "outputs": [
    {
     "name": "stdout",
     "output_type": "stream",
     "text": [
      "The value of aa:\n",
      "[ 8 24 67 87 79 48 10 94 52 98 53 66 98 14 34 24 15 60 58 16]\n",
      "Items between 15 to 55 are: \n",
      " [24, 48, 52, 53, 34, 24, 16]\n"
     ]
    }
   ],
   "source": [
    "np.random.seed(100)\n",
    "aa=np.random.randint(0, 100, 20)\n",
    "print(\"The value of aa:\")\n",
    "print(aa)\n",
    "\n",
    "ll=[]\n",
    "for element in aa:\n",
    "    if element in range(16,56):\n",
    "        ll.append(element)\n",
    "print(\"Items between 15 to 55 are: \\n\",ll)\n"
   ]
  },
  {
   "cell_type": "markdown",
   "id": "83568b22",
   "metadata": {},
   "source": [
    "### 10). Get the positions where elements of a and b match.                 2 points\n",
    "\n",
    "a = np.array([1,2,3,2,3,4,3,4,5,6])\n",
    "\n",
    "b = np.array([7,2,10,2,7,4,9,4,9,8])"
   ]
  },
  {
   "cell_type": "code",
   "execution_count": 26,
   "id": "4fa9729c",
   "metadata": {},
   "outputs": [
    {
     "name": "stdout",
     "output_type": "stream",
     "text": [
      "Positions are :  (array([1, 3, 5, 7]),)\n"
     ]
    }
   ],
   "source": [
    "a = np.array([1,2,3,2,3,4,3,4,5,6])\n",
    "b = np.array([7,2,10,2,7,4,9,4,9,8])     \n",
    "position=np.where(a==b)\n",
    "print(\"Positions are : \",position)"
   ]
  },
  {
   "cell_type": "markdown",
   "id": "83df78d8",
   "metadata": {},
   "source": [
    "### 11). Use arange() to create an array from 0 to 20 ( [0,20) ); replace all odd numbers with -1. "
   ]
  },
  {
   "cell_type": "code",
   "execution_count": 27,
   "id": "7bdf2ba4",
   "metadata": {},
   "outputs": [
    {
     "data": {
      "text/plain": [
       "array([ 0, -1,  2, -1,  4, -1,  6, -1,  8, -1, 10, -1, 12, -1, 14, -1, 16,\n",
       "       -1, 18, -1, 20])"
      ]
     },
     "execution_count": 27,
     "metadata": {},
     "output_type": "execute_result"
    }
   ],
   "source": [
    "y=np.arange(21)\n",
    "y[1::2]=-1             \n",
    "y"
   ]
  },
  {
   "cell_type": "markdown",
   "id": "7980c4ec",
   "metadata": {},
   "source": [
    "### 12). Use two addition functions of Numpy to add every element in a 1D array of size 10 and finally get one value.; and set a timer to time the two addition functions to see which one is faster.   "
   ]
  },
  {
   "cell_type": "code",
   "execution_count": 28,
   "id": "b1025277",
   "metadata": {},
   "outputs": [
    {
     "name": "stdout",
     "output_type": "stream",
     "text": [
      "71\n",
      "22 ns ± 0.0562 ns per loop (mean ± std. dev. of 7 runs, 10000000 loops each)\n",
      "None\n",
      "71\n",
      "21.8 ns ± 0.136 ns per loop (mean ± std. dev. of 7 runs, 10000000 loops each)\n",
      "None\n"
     ]
    }
   ],
   "source": [
    "x=np.random.randint(20,size=(10)) \n",
    "x\n",
    "y=np.sum(x)\n",
    "print(y)\n",
    "t1 = %timeit y\n",
    "print(t1)\n",
    "\n",
    "total = 0\n",
    "for i in x:\n",
    "    total = i + total\n",
    "print(total)\n",
    "\n",
    "t2=%timeit total\n",
    "print(t2)"
   ]
  },
  {
   "cell_type": "markdown",
   "id": "a3c4a09c",
   "metadata": {},
   "source": [
    "### 13). Subtract the mean of each row of a matrix X. X is a random 2D 5x10 array. "
   ]
  },
  {
   "cell_type": "code",
   "execution_count": 29,
   "id": "911f3784",
   "metadata": {},
   "outputs": [
    {
     "name": "stdout",
     "output_type": "stream",
     "text": [
      "[[  3.7  24.7  22.7  39.7   4.7 -30.3  -1.3 -28.3 -41.3   5.7]\n",
      " [ 39.1 -19.9  38.1  30.1 -45.9 -20.9  17.1  -4.9 -54.9  22.1]\n",
      " [ -9.3 -24.3 -46.3  50.7  -9.3 -24.3  -1.3  41.7  26.7  -4.3]\n",
      " [-25.6 -13.6  -5.6  37.4 -34.6 -27.6   0.4  21.4  20.4  27.4]\n",
      " [-38.8 -38.8  38.2   8.2  -4.8  -7.8 -36.8  40.2  30.2  10.2]]\n"
     ]
    }
   ],
   "source": [
    "np.random.seed(69)\n",
    "a1=np.random.randint(100,size=(5,10))                                                  \n",
    "b= a1 - a1.mean(axis=1, keepdims=True)\n",
    "print(b)"
   ]
  },
  {
   "cell_type": "markdown",
   "id": "d9d883a9",
   "metadata": {},
   "source": [
    "### 14) Considering a four dimensions array (3,4,3,4) with the values 0-9 randomly, how to get sum over the last two axis at once?"
   ]
  },
  {
   "cell_type": "code",
   "execution_count": 30,
   "id": "aa1968b0",
   "metadata": {},
   "outputs": [
    {
     "name": "stdout",
     "output_type": "stream",
     "text": [
      "The 4D array is:\n",
      " [[[[2 1 2 5]\n",
      "   [8 0 9 2]\n",
      "   [1 3 7 5]]\n",
      "\n",
      "  [[0 0 1 0]\n",
      "   [8 9 7 5]\n",
      "   [4 9 9 9]]\n",
      "\n",
      "  [[2 7 1 5]\n",
      "   [5 3 4 1]\n",
      "   [9 3 6 7]]\n",
      "\n",
      "  [[3 1 5 9]\n",
      "   [9 4 0 5]\n",
      "   [0 3 8 8]]]\n",
      "\n",
      "\n",
      " [[[7 2 7 0]\n",
      "   [9 1 0 7]\n",
      "   [0 2 3 9]]\n",
      "\n",
      "  [[2 9 7 8]\n",
      "   [3 0 1 1]\n",
      "   [3 1 5 2]]\n",
      "\n",
      "  [[1 3 9 8]\n",
      "   [8 6 8 5]\n",
      "   [3 5 8 7]]\n",
      "\n",
      "  [[2 9 3 9]\n",
      "   [2 1 4 3]\n",
      "   [3 0 9 2]]]\n",
      "\n",
      "\n",
      " [[[9 4 6 4]\n",
      "   [9 0 1 7]\n",
      "   [7 9 1 1]]\n",
      "\n",
      "  [[6 9 2 5]\n",
      "   [3 5 1 6]\n",
      "   [6 1 1 3]]\n",
      "\n",
      "  [[4 0 0 7]\n",
      "   [3 5 4 1]\n",
      "   [9 3 3 8]]\n",
      "\n",
      "  [[0 7 3 0]\n",
      "   [6 4 9 9]\n",
      "   [6 5 1 5]]]]\n",
      "Sum of last 2 axis:\n",
      " [[45 61 53 55]\n",
      " [47 42 71 47]\n",
      " [58 48 47 55]]\n"
     ]
    }
   ],
   "source": [
    "arr = np.random.randint(0,10,(3,4,3,4))\n",
    "print(\"The 4D array is:\\n\", arr)\n",
    "sum = arr.sum(axis=(-2,-1))\n",
    "print(\"Sum of last 2 axis:\\n\",sum)\n"
   ]
  },
  {
   "cell_type": "markdown",
   "id": "46b65991",
   "metadata": {},
   "source": [
    "### 15). Use np.put to randomly place 3 numbers (which can be any value, like 5) in a 2D 10x10 zero array:"
   ]
  },
  {
   "cell_type": "code",
   "execution_count": 31,
   "id": "9549e555",
   "metadata": {},
   "outputs": [
    {
     "name": "stdout",
     "output_type": "stream",
     "text": [
      "[[0. 0. 0. 0. 0. 0. 0. 0. 0. 0.]\n",
      " [0. 0. 0. 0. 0. 0. 0. 0. 0. 0.]\n",
      " [0. 0. 0. 0. 0. 0. 0. 0. 0. 0.]\n",
      " [0. 0. 0. 0. 0. 0. 0. 0. 0. 0.]\n",
      " [0. 0. 0. 0. 0. 0. 0. 0. 0. 0.]\n",
      " [0. 0. 0. 0. 0. 0. 0. 0. 0. 0.]\n",
      " [0. 0. 0. 0. 0. 0. 0. 0. 0. 0.]\n",
      " [0. 0. 0. 0. 0. 0. 0. 0. 0. 0.]\n",
      " [0. 0. 0. 0. 0. 0. 0. 0. 0. 0.]\n",
      " [0. 0. 0. 0. 0. 0. 0. 0. 0. 0.]]\n",
      "[7 5 9]\n",
      "[[0. 0. 0. 0. 0. 5. 0. 1. 0. 8.]\n",
      " [0. 0. 0. 0. 0. 0. 0. 0. 0. 0.]\n",
      " [0. 0. 0. 0. 0. 0. 0. 0. 0. 0.]\n",
      " [0. 0. 0. 0. 0. 0. 0. 0. 0. 0.]\n",
      " [0. 0. 0. 0. 0. 0. 0. 0. 0. 0.]\n",
      " [0. 0. 0. 0. 0. 0. 0. 0. 0. 0.]\n",
      " [0. 0. 0. 0. 0. 0. 0. 0. 0. 0.]\n",
      " [0. 0. 0. 0. 0. 0. 0. 0. 0. 0.]\n",
      " [0. 0. 0. 0. 0. 0. 0. 0. 0. 0.]\n",
      " [0. 0. 0. 0. 0. 0. 0. 0. 0. 0.]]\n"
     ]
    }
   ],
   "source": [
    "x=np.zeros((10,10))\n",
    "print(x)\n",
    "y=np.random.choice(10,3,replace=False)  \n",
    "print(y)\n",
    "z=np.put(x, y, np.random.randint(10,size=(10,10)) ,mode = 'raise')\n",
    "print(x)"
   ]
  },
  {
   "cell_type": "markdown",
   "id": "edaeefbb",
   "metadata": {},
   "source": [
    "## Indexing and Slicing:"
   ]
  },
  {
   "cell_type": "markdown",
   "id": "4d262540",
   "metadata": {},
   "source": [
    "### 1) Given a 1d array: [ 3, 6, 9, 25, 10, 8]                      4 points\n",
    "\n",
    "(1) To get all elements except the first:\n",
    "\n",
    "(2) To get all elements except the last:\n",
    "\n",
    "(3) To get every other element of the array (operation from the first element):\n",
    "\n",
    "(4) To reverse the array:"
   ]
  },
  {
   "cell_type": "code",
   "execution_count": 32,
   "id": "85a54a8b",
   "metadata": {},
   "outputs": [
    {
     "name": "stdout",
     "output_type": "stream",
     "text": [
      "All elements except the first : \n",
      " [ 6  9 25 10  8]\n",
      "All elements except the last : \n",
      " [ 3  6  9 25 10]\n",
      "Every other element of the array (operation from the first element) : \n",
      " [ 3  9 10]\n",
      "Reverse the array : \n",
      " [ 8 10 25  9  6  3]\n"
     ]
    }
   ],
   "source": [
    "x=[ 3, 6, 9, 25, 10, 8]\n",
    "y=np.array(x)\n",
    "\n",
    "y1=y[1:]\n",
    "print(\"All elements except the first : \\n\",y1)                 \n",
    "y2=y[:5]\n",
    "print(\"All elements except the last : \\n\",y2)\n",
    "y3=y[::2]\n",
    "print(\"Every other element of the array (operation from the first element) : \\n\",y3)\n",
    "y4=y[::-1]\n",
    "print(\"Reverse the array : \\n\",y4)"
   ]
  },
  {
   "cell_type": "markdown",
   "id": "f5a06947",
   "metadata": {},
   "source": [
    "### 2) Multidimensional Arrays:               4 points\n",
    "\n",
    "(1) create an array with the components as 0-31 and the shape is (8,4).\n",
    "\n",
    "(2) set the 3rd element in the 1st row to 0.\n",
    "\n",
    "(3) print out the second column.\n",
    "\n",
    "(4) Get the 3x3 region from the array:\n",
    "\n",
    "([ 9, 10, 11],\n",
    "\n",
    " [13, 14, 15],\n",
    "\n",
    " [17, 18, 19]])"
   ]
  },
  {
   "cell_type": "code",
   "execution_count": 33,
   "id": "a2312c92",
   "metadata": {},
   "outputs": [
    {
     "name": "stdout",
     "output_type": "stream",
     "text": [
      "An array with the components as 0-31 and the shape is (8,4 :\n",
      "[[ 0  1  2  3]\n",
      " [ 4  5  6  7]\n",
      " [ 8  9 10 11]\n",
      " [12 13 14 15]\n",
      " [16 17 18 19]\n",
      " [20 21 22 23]\n",
      " [24 25 26 27]\n",
      " [28 29 30 31]]\n",
      "Set the 3rd element in the 1st row to 0 : \n",
      "[[ 0  1  0  3]\n",
      " [ 4  5  6  7]\n",
      " [ 8  9 10 11]\n",
      " [12 13 14 15]\n",
      " [16 17 18 19]\n",
      " [20 21 22 23]\n",
      " [24 25 26 27]\n",
      " [28 29 30 31]]\n",
      "Second column :  [ 1  5  9 13 17 21 25 29]\n",
      "3x3 region from the array :\n",
      "[[ 9 10 11]\n",
      " [13 14 15]\n",
      " [17 18 19]]\n"
     ]
    }
   ],
   "source": [
    "x=np.arange(32).reshape(8,4)\n",
    "print(\"An array with the components as 0-31 and the shape is (8,4 :\")\n",
    "print(x)\n",
    "x[0,2]=0\n",
    "print(\"Set the 3rd element in the 1st row to 0 : \")\n",
    "print((x))\n",
    "print(\"Second column : \",x[:,1])\n",
    "print(\"3x3 region from the array :\")\n",
    "print(x[2:5,1:])"
   ]
  },
  {
   "cell_type": "markdown",
   "id": "2f81295e",
   "metadata": {},
   "source": [
    "### 3) Create an 4x4 matrix in which 0 and 1 are staggered, with zeros on the main diagonal. Please use the numpy \"slicing\" method to realize.                4 points\n",
    "\n",
    "[[0. 1. 0. 1.]\n",
    "\n",
    " [1. 0. 1. 0.]\n",
    "\n",
    " [0. 1. 0. 1.]\n",
    "\n",
    " [1. 0. 1. 0.]]"
   ]
  },
  {
   "cell_type": "code",
   "execution_count": 34,
   "id": "38745d10",
   "metadata": {},
   "outputs": [
    {
     "data": {
      "text/plain": [
       "array([[0., 1., 0., 1.],\n",
       "       [1., 0., 1., 0.],\n",
       "       [0., 1., 0., 1.],\n",
       "       [1., 0., 1., 0.]])"
      ]
     },
     "execution_count": 34,
     "metadata": {},
     "output_type": "execute_result"
    }
   ],
   "source": [
    "x=np.ones((4,4))\n",
    "x[::2,::2]=0            \n",
    "x[1::2,1::2]=0\n",
    "x"
   ]
  },
  {
   "cell_type": "markdown",
   "id": "4b2bb28f",
   "metadata": {},
   "source": [
    "### 4) Swap the first two rows of the array: aa = np.arange(20).reshape(5,4) "
   ]
  },
  {
   "cell_type": "code",
   "execution_count": 35,
   "id": "2f8881ef",
   "metadata": {},
   "outputs": [
    {
     "name": "stdout",
     "output_type": "stream",
     "text": [
      "[[ 0  1  2  3]\n",
      " [ 4  5  6  7]\n",
      " [ 8  9 10 11]\n",
      " [12 13 14 15]\n",
      " [16 17 18 19]]\n"
     ]
    },
    {
     "data": {
      "text/plain": [
       "array([[ 4,  5,  6,  7],\n",
       "       [ 0,  1,  2,  3],\n",
       "       [ 8,  9, 10, 11],\n",
       "       [12, 13, 14, 15],\n",
       "       [16, 17, 18, 19]])"
      ]
     },
     "execution_count": 35,
     "metadata": {},
     "output_type": "execute_result"
    }
   ],
   "source": [
    "aa = np.arange(20).reshape(5,4)\n",
    "print(aa)\n",
    "aa[[1, 0], :] = aa[[0, 1], :]           \n",
    "aa"
   ]
  },
  {
   "cell_type": "markdown",
   "id": "c6c951c5",
   "metadata": {},
   "source": [
    "## Broadcasting in Practice:"
   ]
  },
  {
   "cell_type": "markdown",
   "id": "2f8fc460",
   "metadata": {},
   "source": [
    "### 1) Given 2 arrays:                                                        2 points\n",
    "\n",
    "a_2d : [[3,3,3],[4,4,4],[5,5,5]]\n",
    "\n",
    "b_1d : [1,2,3]\n",
    "\n",
    "Do the subtraction so that the result is:\n",
    "\n",
    "[[2 2 2]\n",
    "\n",
    " [2 2 2]\n",
    "\n",
    " [2 2 2]]"
   ]
  },
  {
   "cell_type": "code",
   "execution_count": 36,
   "id": "deeb3c8e",
   "metadata": {},
   "outputs": [
    {
     "data": {
      "text/plain": [
       "array([[2, 2, 2],\n",
       "       [2, 2, 2],\n",
       "       [2, 2, 2]])"
      ]
     },
     "execution_count": 36,
     "metadata": {},
     "output_type": "execute_result"
    }
   ],
   "source": [
    "a_2d = [3,3,3],[4,4,4],[5,5,5]\n",
    "b_1d = [1,2,3]\n",
    "a1=np.array(a_2d)\n",
    "a2=np.array(b_1d)            \n",
    "a3=a1-a2[:,None]\n",
    "a3\n"
   ]
  },
  {
   "cell_type": "markdown",
   "id": "994b2099",
   "metadata": {},
   "source": [
    "### 2). Write a 6x6 matrix for multiplication table:          8 points\n",
    "\n",
    "- by using numpy broadcasting (4 points)\n",
    "\n",
    "- by using Python nested for-loop (4 points).\n",
    "\n",
    "Desired output:\n",
    "\n",
    "array([[ 1,  2,  3,  4,  5,  6],\n",
    "\n",
    "       [ 2,  4,  6,  8, 10, 12],\n",
    "\n",
    "       [ 3,  6,  9, 12, 15, 18],\n",
    "\n",
    "       [ 4,  8, 12, 16, 20, 24],\n",
    "\n",
    "       [ 5, 10, 15, 20, 25, 30],\n",
    "\n",
    "       [ 6, 12, 18, 24, 30, 36]])"
   ]
  },
  {
   "cell_type": "code",
   "execution_count": 37,
   "id": "3c4ae1f6",
   "metadata": {},
   "outputs": [
    {
     "name": "stdout",
     "output_type": "stream",
     "text": [
      "[[ 1  2  3  4  5  6]\n",
      " [ 2  4  6  8 10 12]\n",
      " [ 3  6  9 12 15 18]\n",
      " [ 4  8 12 16 20 24]\n",
      " [ 5 10 15 20 25 30]\n",
      " [ 6 12 18 24 30 36]]\n",
      "Loops : \n"
     ]
    },
    {
     "data": {
      "text/plain": [
       "[[1, 2, 3, 4, 5, 6],\n",
       " [2, 4, 6, 8, 10, 12],\n",
       " [3, 6, 9, 12, 15, 18],\n",
       " [4, 8, 12, 16, 20, 24],\n",
       " [5, 10, 15, 20, 25, 30],\n",
       " [6, 12, 18, 24, 30, 36]]"
      ]
     },
     "execution_count": 37,
     "metadata": {},
     "output_type": "execute_result"
    }
   ],
   "source": [
    "a=np.arange(1,7)\n",
    "b=np.arange(1,7)\n",
    "print(a[:, None] * b)\n",
    "\n",
    "y=[1,2,3,4,5,6]\n",
    "res=[]\n",
    "for i in range(6):\n",
    "    res.append([x*(i+1) for x in a])   \n",
    "print(\"Loops : \")\n",
    "res\n",
    "    "
   ]
  },
  {
   "cell_type": "markdown",
   "id": "a4ecd752",
   "metadata": {},
   "source": [
    "### 3) For an arbitrary array of dimension (5,5,3), consider multiplying it by an arbitrary array with dimensions (5,5).  "
   ]
  },
  {
   "cell_type": "code",
   "execution_count": 38,
   "id": "6d42c9ad",
   "metadata": {},
   "outputs": [
    {
     "name": "stdout",
     "output_type": "stream",
     "text": [
      "x:  [[[5 0 3]\n",
      "  [3 7 9]\n",
      "  [3 5 2]\n",
      "  [4 7 6]\n",
      "  [8 8 1]]\n",
      "\n",
      " [[6 7 7]\n",
      "  [8 1 5]\n",
      "  [9 8 9]\n",
      "  [4 3 0]\n",
      "  [3 5 0]]\n",
      "\n",
      " [[2 3 8]\n",
      "  [1 3 3]\n",
      "  [3 7 0]\n",
      "  [1 9 9]\n",
      "  [0 4 7]]\n",
      "\n",
      " [[3 2 7]\n",
      "  [2 0 0]\n",
      "  [4 5 5]\n",
      "  [6 8 4]\n",
      "  [1 4 9]]\n",
      "\n",
      " [[8 1 1]\n",
      "  [7 9 9]\n",
      "  [3 6 7]\n",
      "  [2 0 3]\n",
      "  [5 9 4]]]\n",
      "\n",
      "y :  [[4 6 4 4 3]\n",
      " [4 4 8 4 3]\n",
      " [7 5 5 0 1]\n",
      " [5 9 3 0 5]\n",
      " [0 1 2 4 2]]\n",
      "\n",
      "x*y :  [[[20  0 12]\n",
      "  [18 42 54]\n",
      "  [12 20  8]\n",
      "  [16 28 24]\n",
      "  [24 24  3]]\n",
      "\n",
      " [[24 28 28]\n",
      "  [32  4 20]\n",
      "  [72 64 72]\n",
      "  [16 12  0]\n",
      "  [ 9 15  0]]\n",
      "\n",
      " [[14 21 56]\n",
      "  [ 5 15 15]\n",
      "  [15 35  0]\n",
      "  [ 0  0  0]\n",
      "  [ 0  4  7]]\n",
      "\n",
      " [[15 10 35]\n",
      "  [18  0  0]\n",
      "  [12 15 15]\n",
      "  [ 0  0  0]\n",
      "  [ 5 20 45]]\n",
      "\n",
      " [[ 0  0  0]\n",
      "  [ 7  9  9]\n",
      "  [ 6 12 14]\n",
      "  [ 8  0 12]\n",
      "  [10 18  8]]]\n"
     ]
    }
   ],
   "source": [
    "np.random.seed(0)\n",
    "x = np.random.randint(10, size=(5, 5, 3))\n",
    "y = np.random.randint(10, size=(5, 5))\n",
    "print(\"x: \",x)\n",
    "print()\n",
    "print(\"y : \",y)                          \n",
    "print()\n",
    "print(\"x*y : \",x*y[:,:,None])"
   ]
  },
  {
   "cell_type": "markdown",
   "id": "a8269057",
   "metadata": {},
   "source": [
    "# Others"
   ]
  },
  {
   "cell_type": "markdown",
   "id": "f7c11cbf",
   "metadata": {},
   "source": [
    "### 1) Find the closest value from a given value 0.5 in an arbitrary array with values 0-1."
   ]
  },
  {
   "cell_type": "code",
   "execution_count": 39,
   "id": "99a12239",
   "metadata": {},
   "outputs": [
    {
     "name": "stdout",
     "output_type": "stream",
     "text": [
      "Array :  [0.971945   0.87819347 0.50962438 0.05571469 0.45115921 0.01998767\n",
      " 0.44171092 0.97958673 0.35944446 0.48089353]\n",
      "\n",
      " Nearest Value :  0.5096243767199001\n"
     ]
    }
   ],
   "source": [
    "value = 0.5\n",
    "\n",
    "def closest(array, value):\n",
    "    index_min = (np.abs(array - value)).argmin()\n",
    "    return array[index_min]\n",
    "\n",
    "array = np.random.random(10)\n",
    "print(\"Array : \",array)\n",
    "\n",
    "print(\"\\n Nearest Value : \",closest(array, value))"
   ]
  },
  {
   "cell_type": "markdown",
   "id": "27b7e027",
   "metadata": {},
   "source": [
    "### 2) Consider an array Z = [1,2,3,4,5,6,7,8,9,10,11,12,13,14], how to generate an array R = [[1,2,3,4], [2,3,4,5], [3,4,5,6], ..., [11,12,13,14]]"
   ]
  },
  {
   "cell_type": "code",
   "execution_count": 40,
   "id": "af66a67d",
   "metadata": {},
   "outputs": [
    {
     "data": {
      "text/plain": [
       "array([[ 1,  2,  3,  4],\n",
       "       [ 2,  3,  4,  5],\n",
       "       [ 3,  4,  5,  6],\n",
       "       [ 4,  5,  6,  7],\n",
       "       [ 5,  6,  7,  8],\n",
       "       [ 6,  7,  8,  9],\n",
       "       [ 7,  8,  9, 10],\n",
       "       [ 8,  9, 10, 11],\n",
       "       [ 9, 10, 11, 12],\n",
       "       [10, 11, 12, 13],\n",
       "       [11, 12, 13, 14]])"
      ]
     },
     "execution_count": 40,
     "metadata": {},
     "output_type": "execute_result"
    }
   ],
   "source": [
    "Z = np.arange(1,15,dtype=int)\n",
    "\n",
    "def generate(x, window):\n",
    "    y1 = (x.size - window + 1, window)\n",
    "    y2 = (x.itemsize, x.itemsize)\n",
    "    return np.lib.stride_tricks.as_strided(x, shape=y1, strides=y2)\n",
    "    \n",
    "R = generate(Z, 4)\n",
    "R"
   ]
  },
  {
   "cell_type": "code",
   "execution_count": null,
   "id": "29217838",
   "metadata": {},
   "outputs": [],
   "source": []
  }
 ],
 "metadata": {
  "kernelspec": {
   "display_name": "Python 3",
   "language": "python",
   "name": "python3"
  },
  "language_info": {
   "codemirror_mode": {
    "name": "ipython",
    "version": 3
   },
   "file_extension": ".py",
   "mimetype": "text/x-python",
   "name": "python",
   "nbconvert_exporter": "python",
   "pygments_lexer": "ipython3",
   "version": "3.8.8"
  }
 },
 "nbformat": 4,
 "nbformat_minor": 5
}
